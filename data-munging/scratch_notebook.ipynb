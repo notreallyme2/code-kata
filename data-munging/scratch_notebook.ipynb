{
 "cells": [
  {
   "cell_type": "code",
   "execution_count": 14,
   "id": "ab7256a4",
   "metadata": {
    "pycharm": {
     "name": ""
    }
   },
   "outputs": [],
   "source": [
    "import pandas as pd\n",
    "import requests\n",
    "import urllib"
   ]
  },
  {
   "cell_type": "code",
   "execution_count": 2,
   "outputs": [],
   "source": [
    "WEATHER_URL = \"http://codekata.com/data/04/weather.dat\"\n",
    "FOOTBALL_URL = \"http://codekata.com/data/04/football.dat\""
   ],
   "metadata": {
    "collapsed": false
   }
  },
  {
   "cell_type": "code",
   "execution_count": 28,
   "outputs": [],
   "source": [
    "data = urllib.request.urlopen('http://codekata.com/data/04/weather.dat').read()"
   ],
   "metadata": {
    "collapsed": false
   }
  },
  {
   "cell_type": "code",
   "execution_count": 52,
   "outputs": [],
   "source": [
    "# using Pandas:\n",
    "data = pd.read_table(WEATHER_URL, sep=\"\\s+\")\n",
    "# direct from a local file:\n",
    "# with open(WEATHER_URL, mode='r') as f:\n",
    "#     lines = f.readlines()"
   ],
   "metadata": {
    "collapsed": false
   }
  },
  {
   "cell_type": "code",
   "execution_count": 53,
   "outputs": [
    {
     "data": {
      "text/plain": "    Dy   MxT   MnT   AvT  HDDay  AvDP  1HrP TPcpn  WxType   PDir AvSp   Dir  \\\n0    1    88    59  74.0   53.8   0.0     F   280     9.6  270.0   17   1.6   \n1    2    79    63  71.0   46.5   0.0   330   8.7   340.0   23.0  3.3  70.0   \n2    3    77    55  66.0   39.6   0.0   350   5.0   350.0    9.0  2.8  59.0   \n3    4    77    59  68.0   51.1   0.0   110   9.1   130.0   12.0  8.6  62.0   \n4    5    90    66  78.0   68.3   0.0   TFH   220     8.3  260.0   12   6.9   \n5    6    81    61  71.0   63.7   0.0   RFH   030     6.2   30.0   13   9.7   \n6    7    73    57  65.0   53.0   0.0    RF   050     9.5   50.0   17   5.3   \n7    8    75    54  65.0   50.0   0.0    FH   160     4.2  150.0   10   2.6   \n8    9    86   32*  59.0    6.0  61.5  0.00   240     7.6  220.0   12   6.0   \n9   10    84    64  74.0   57.5   0.0     F   210     6.6   50.0    9   3.4   \n10  11    91    59  75.0   66.3   0.0     H   250     7.1  230.0   12   2.5   \n11  12    88    73  81.0   68.7   0.0   RTH   250     8.1  270.0   21   7.9   \n12  13    70    59  65.0   55.0   0.0     H   150     3.0  150.0    8  10.0   \n13  14    61    59  60.0    5.0  55.9  0.00    RF    60.0    6.7  080   9.0   \n14  15    64    55  60.0    5.0  54.9  0.00     F    40.0    4.3  200   7.0   \n15  16    79    59  69.0   56.7   0.0     F   250     7.6  240.0   21   7.8   \n16  17    81    57  69.0   51.7   0.0     T   260     9.1  270.0  29*   5.2   \n17  18    82    52  67.0   52.6   0.0   230   4.0   190.0   12.0  5.0  93.0   \n18  19    81    61  71.0   58.9   0.0     H   250     5.2  230.0   12   5.3   \n19  20    84    57  71.0   58.9   0.0    FH   150     6.3  160.0   13   3.6   \n20  21    86    59  73.0   57.7   0.0     F   240     6.1  250.0   12   1.0   \n21  22    90    64  77.0   61.1   0.0     H   250     6.4  230.0    9   0.2   \n22  23    90    68  79.0   63.1   0.0     H   240     8.3  230.0   12   0.2   \n23  24    90    77  84.0   67.5   0.0     H   350     8.5   10.0   14   6.9   \n24  25    90    72  81.0   61.3   0.0   190   4.9   230.0    9.0  5.6  81.0   \n25  26   97*    64  81.0   70.4   0.0     H   050     5.1  200.0   12   4.0   \n26  27    91    72  82.0   69.7   0.0   RTH   250    12.1  230.0   17   7.1   \n27  28    84    68  76.0   65.6   0.0  RTFH   280     7.6  340.0   16   7.0   \n28  29    88    66  77.0   59.7   0.0   040   5.4    20.0    9.0  5.3  84.0   \n29  30    90    45  68.0   63.6   0.0     H   240     6.0  220.0   17   4.8   \n30  mo  82.9  60.5  71.7   16.0  58.8  0.00   6.9     5.3    NaN  NaN   NaN   \n\n      MxS    SkyC     MxR     MnR  AvSLP  \n0    93.0    23.0  1004.5     NaN    NaN  \n1    28.0  1004.5     NaN     NaN    NaN  \n2    24.0  1016.8     NaN     NaN    NaN  \n3    40.0  1021.1     NaN     NaN    NaN  \n4    84.0    55.0  1014.4     NaN    NaN  \n5    93.0    60.0  1012.7     NaN    NaN  \n6    90.0    48.0  1021.8     NaN    NaN  \n7    93.0    41.0  1026.3     NaN    NaN  \n8    78.0    46.0  1018.6     NaN    NaN  \n9    84.0    40.0  1019.0     NaN    NaN  \n10   93.0    45.0  1012.6     NaN    NaN  \n11   94.0    51.0  1007.0     NaN    NaN  \n12   83.0    59.0  1012.6     NaN    NaN  \n13   10.0    93.0    87.0  1008.6    NaN  \n14    9.6    96.0    70.0  1006.1    NaN  \n15   87.0    44.0  1007.0     NaN    NaN  \n16   90.0    34.0  1012.5     NaN    NaN  \n17   34.0  1021.3     NaN     NaN    NaN  \n18   87.0    44.0  1028.5     NaN    NaN  \n19   90.0    43.0  1032.5     NaN    NaN  \n20   87.0    35.0  1030.7     NaN    NaN  \n21   78.0    38.0  1026.4     NaN    NaN  \n22   68.0    42.0  1021.3     NaN    NaN  \n23   74.0    48.0  1018.2     NaN    NaN  \n24   29.0  1019.6     NaN     NaN    NaN  \n25  107.0    45.0  1014.9     NaN    NaN  \n26   90.0    47.0  1009.0     NaN    NaN  \n27  100.0    51.0  1011.0     NaN    NaN  \n28   33.0  1020.6     NaN     NaN    NaN  \n29  200.0    41.0  1022.7     NaN    NaN  \n30    NaN     NaN     NaN     NaN    NaN  ",
      "text/html": "<div>\n<style scoped>\n    .dataframe tbody tr th:only-of-type {\n        vertical-align: middle;\n    }\n\n    .dataframe tbody tr th {\n        vertical-align: top;\n    }\n\n    .dataframe thead th {\n        text-align: right;\n    }\n</style>\n<table border=\"1\" class=\"dataframe\">\n  <thead>\n    <tr style=\"text-align: right;\">\n      <th></th>\n      <th>Dy</th>\n      <th>MxT</th>\n      <th>MnT</th>\n      <th>AvT</th>\n      <th>HDDay</th>\n      <th>AvDP</th>\n      <th>1HrP</th>\n      <th>TPcpn</th>\n      <th>WxType</th>\n      <th>PDir</th>\n      <th>AvSp</th>\n      <th>Dir</th>\n      <th>MxS</th>\n      <th>SkyC</th>\n      <th>MxR</th>\n      <th>MnR</th>\n      <th>AvSLP</th>\n    </tr>\n  </thead>\n  <tbody>\n    <tr>\n      <th>0</th>\n      <td>1</td>\n      <td>88</td>\n      <td>59</td>\n      <td>74.0</td>\n      <td>53.8</td>\n      <td>0.0</td>\n      <td>F</td>\n      <td>280</td>\n      <td>9.6</td>\n      <td>270.0</td>\n      <td>17</td>\n      <td>1.6</td>\n      <td>93.0</td>\n      <td>23.0</td>\n      <td>1004.5</td>\n      <td>NaN</td>\n      <td>NaN</td>\n    </tr>\n    <tr>\n      <th>1</th>\n      <td>2</td>\n      <td>79</td>\n      <td>63</td>\n      <td>71.0</td>\n      <td>46.5</td>\n      <td>0.0</td>\n      <td>330</td>\n      <td>8.7</td>\n      <td>340.0</td>\n      <td>23.0</td>\n      <td>3.3</td>\n      <td>70.0</td>\n      <td>28.0</td>\n      <td>1004.5</td>\n      <td>NaN</td>\n      <td>NaN</td>\n      <td>NaN</td>\n    </tr>\n    <tr>\n      <th>2</th>\n      <td>3</td>\n      <td>77</td>\n      <td>55</td>\n      <td>66.0</td>\n      <td>39.6</td>\n      <td>0.0</td>\n      <td>350</td>\n      <td>5.0</td>\n      <td>350.0</td>\n      <td>9.0</td>\n      <td>2.8</td>\n      <td>59.0</td>\n      <td>24.0</td>\n      <td>1016.8</td>\n      <td>NaN</td>\n      <td>NaN</td>\n      <td>NaN</td>\n    </tr>\n    <tr>\n      <th>3</th>\n      <td>4</td>\n      <td>77</td>\n      <td>59</td>\n      <td>68.0</td>\n      <td>51.1</td>\n      <td>0.0</td>\n      <td>110</td>\n      <td>9.1</td>\n      <td>130.0</td>\n      <td>12.0</td>\n      <td>8.6</td>\n      <td>62.0</td>\n      <td>40.0</td>\n      <td>1021.1</td>\n      <td>NaN</td>\n      <td>NaN</td>\n      <td>NaN</td>\n    </tr>\n    <tr>\n      <th>4</th>\n      <td>5</td>\n      <td>90</td>\n      <td>66</td>\n      <td>78.0</td>\n      <td>68.3</td>\n      <td>0.0</td>\n      <td>TFH</td>\n      <td>220</td>\n      <td>8.3</td>\n      <td>260.0</td>\n      <td>12</td>\n      <td>6.9</td>\n      <td>84.0</td>\n      <td>55.0</td>\n      <td>1014.4</td>\n      <td>NaN</td>\n      <td>NaN</td>\n    </tr>\n    <tr>\n      <th>5</th>\n      <td>6</td>\n      <td>81</td>\n      <td>61</td>\n      <td>71.0</td>\n      <td>63.7</td>\n      <td>0.0</td>\n      <td>RFH</td>\n      <td>030</td>\n      <td>6.2</td>\n      <td>30.0</td>\n      <td>13</td>\n      <td>9.7</td>\n      <td>93.0</td>\n      <td>60.0</td>\n      <td>1012.7</td>\n      <td>NaN</td>\n      <td>NaN</td>\n    </tr>\n    <tr>\n      <th>6</th>\n      <td>7</td>\n      <td>73</td>\n      <td>57</td>\n      <td>65.0</td>\n      <td>53.0</td>\n      <td>0.0</td>\n      <td>RF</td>\n      <td>050</td>\n      <td>9.5</td>\n      <td>50.0</td>\n      <td>17</td>\n      <td>5.3</td>\n      <td>90.0</td>\n      <td>48.0</td>\n      <td>1021.8</td>\n      <td>NaN</td>\n      <td>NaN</td>\n    </tr>\n    <tr>\n      <th>7</th>\n      <td>8</td>\n      <td>75</td>\n      <td>54</td>\n      <td>65.0</td>\n      <td>50.0</td>\n      <td>0.0</td>\n      <td>FH</td>\n      <td>160</td>\n      <td>4.2</td>\n      <td>150.0</td>\n      <td>10</td>\n      <td>2.6</td>\n      <td>93.0</td>\n      <td>41.0</td>\n      <td>1026.3</td>\n      <td>NaN</td>\n      <td>NaN</td>\n    </tr>\n    <tr>\n      <th>8</th>\n      <td>9</td>\n      <td>86</td>\n      <td>32*</td>\n      <td>59.0</td>\n      <td>6.0</td>\n      <td>61.5</td>\n      <td>0.00</td>\n      <td>240</td>\n      <td>7.6</td>\n      <td>220.0</td>\n      <td>12</td>\n      <td>6.0</td>\n      <td>78.0</td>\n      <td>46.0</td>\n      <td>1018.6</td>\n      <td>NaN</td>\n      <td>NaN</td>\n    </tr>\n    <tr>\n      <th>9</th>\n      <td>10</td>\n      <td>84</td>\n      <td>64</td>\n      <td>74.0</td>\n      <td>57.5</td>\n      <td>0.0</td>\n      <td>F</td>\n      <td>210</td>\n      <td>6.6</td>\n      <td>50.0</td>\n      <td>9</td>\n      <td>3.4</td>\n      <td>84.0</td>\n      <td>40.0</td>\n      <td>1019.0</td>\n      <td>NaN</td>\n      <td>NaN</td>\n    </tr>\n    <tr>\n      <th>10</th>\n      <td>11</td>\n      <td>91</td>\n      <td>59</td>\n      <td>75.0</td>\n      <td>66.3</td>\n      <td>0.0</td>\n      <td>H</td>\n      <td>250</td>\n      <td>7.1</td>\n      <td>230.0</td>\n      <td>12</td>\n      <td>2.5</td>\n      <td>93.0</td>\n      <td>45.0</td>\n      <td>1012.6</td>\n      <td>NaN</td>\n      <td>NaN</td>\n    </tr>\n    <tr>\n      <th>11</th>\n      <td>12</td>\n      <td>88</td>\n      <td>73</td>\n      <td>81.0</td>\n      <td>68.7</td>\n      <td>0.0</td>\n      <td>RTH</td>\n      <td>250</td>\n      <td>8.1</td>\n      <td>270.0</td>\n      <td>21</td>\n      <td>7.9</td>\n      <td>94.0</td>\n      <td>51.0</td>\n      <td>1007.0</td>\n      <td>NaN</td>\n      <td>NaN</td>\n    </tr>\n    <tr>\n      <th>12</th>\n      <td>13</td>\n      <td>70</td>\n      <td>59</td>\n      <td>65.0</td>\n      <td>55.0</td>\n      <td>0.0</td>\n      <td>H</td>\n      <td>150</td>\n      <td>3.0</td>\n      <td>150.0</td>\n      <td>8</td>\n      <td>10.0</td>\n      <td>83.0</td>\n      <td>59.0</td>\n      <td>1012.6</td>\n      <td>NaN</td>\n      <td>NaN</td>\n    </tr>\n    <tr>\n      <th>13</th>\n      <td>14</td>\n      <td>61</td>\n      <td>59</td>\n      <td>60.0</td>\n      <td>5.0</td>\n      <td>55.9</td>\n      <td>0.00</td>\n      <td>RF</td>\n      <td>60.0</td>\n      <td>6.7</td>\n      <td>080</td>\n      <td>9.0</td>\n      <td>10.0</td>\n      <td>93.0</td>\n      <td>87.0</td>\n      <td>1008.6</td>\n      <td>NaN</td>\n    </tr>\n    <tr>\n      <th>14</th>\n      <td>15</td>\n      <td>64</td>\n      <td>55</td>\n      <td>60.0</td>\n      <td>5.0</td>\n      <td>54.9</td>\n      <td>0.00</td>\n      <td>F</td>\n      <td>40.0</td>\n      <td>4.3</td>\n      <td>200</td>\n      <td>7.0</td>\n      <td>9.6</td>\n      <td>96.0</td>\n      <td>70.0</td>\n      <td>1006.1</td>\n      <td>NaN</td>\n    </tr>\n    <tr>\n      <th>15</th>\n      <td>16</td>\n      <td>79</td>\n      <td>59</td>\n      <td>69.0</td>\n      <td>56.7</td>\n      <td>0.0</td>\n      <td>F</td>\n      <td>250</td>\n      <td>7.6</td>\n      <td>240.0</td>\n      <td>21</td>\n      <td>7.8</td>\n      <td>87.0</td>\n      <td>44.0</td>\n      <td>1007.0</td>\n      <td>NaN</td>\n      <td>NaN</td>\n    </tr>\n    <tr>\n      <th>16</th>\n      <td>17</td>\n      <td>81</td>\n      <td>57</td>\n      <td>69.0</td>\n      <td>51.7</td>\n      <td>0.0</td>\n      <td>T</td>\n      <td>260</td>\n      <td>9.1</td>\n      <td>270.0</td>\n      <td>29*</td>\n      <td>5.2</td>\n      <td>90.0</td>\n      <td>34.0</td>\n      <td>1012.5</td>\n      <td>NaN</td>\n      <td>NaN</td>\n    </tr>\n    <tr>\n      <th>17</th>\n      <td>18</td>\n      <td>82</td>\n      <td>52</td>\n      <td>67.0</td>\n      <td>52.6</td>\n      <td>0.0</td>\n      <td>230</td>\n      <td>4.0</td>\n      <td>190.0</td>\n      <td>12.0</td>\n      <td>5.0</td>\n      <td>93.0</td>\n      <td>34.0</td>\n      <td>1021.3</td>\n      <td>NaN</td>\n      <td>NaN</td>\n      <td>NaN</td>\n    </tr>\n    <tr>\n      <th>18</th>\n      <td>19</td>\n      <td>81</td>\n      <td>61</td>\n      <td>71.0</td>\n      <td>58.9</td>\n      <td>0.0</td>\n      <td>H</td>\n      <td>250</td>\n      <td>5.2</td>\n      <td>230.0</td>\n      <td>12</td>\n      <td>5.3</td>\n      <td>87.0</td>\n      <td>44.0</td>\n      <td>1028.5</td>\n      <td>NaN</td>\n      <td>NaN</td>\n    </tr>\n    <tr>\n      <th>19</th>\n      <td>20</td>\n      <td>84</td>\n      <td>57</td>\n      <td>71.0</td>\n      <td>58.9</td>\n      <td>0.0</td>\n      <td>FH</td>\n      <td>150</td>\n      <td>6.3</td>\n      <td>160.0</td>\n      <td>13</td>\n      <td>3.6</td>\n      <td>90.0</td>\n      <td>43.0</td>\n      <td>1032.5</td>\n      <td>NaN</td>\n      <td>NaN</td>\n    </tr>\n    <tr>\n      <th>20</th>\n      <td>21</td>\n      <td>86</td>\n      <td>59</td>\n      <td>73.0</td>\n      <td>57.7</td>\n      <td>0.0</td>\n      <td>F</td>\n      <td>240</td>\n      <td>6.1</td>\n      <td>250.0</td>\n      <td>12</td>\n      <td>1.0</td>\n      <td>87.0</td>\n      <td>35.0</td>\n      <td>1030.7</td>\n      <td>NaN</td>\n      <td>NaN</td>\n    </tr>\n    <tr>\n      <th>21</th>\n      <td>22</td>\n      <td>90</td>\n      <td>64</td>\n      <td>77.0</td>\n      <td>61.1</td>\n      <td>0.0</td>\n      <td>H</td>\n      <td>250</td>\n      <td>6.4</td>\n      <td>230.0</td>\n      <td>9</td>\n      <td>0.2</td>\n      <td>78.0</td>\n      <td>38.0</td>\n      <td>1026.4</td>\n      <td>NaN</td>\n      <td>NaN</td>\n    </tr>\n    <tr>\n      <th>22</th>\n      <td>23</td>\n      <td>90</td>\n      <td>68</td>\n      <td>79.0</td>\n      <td>63.1</td>\n      <td>0.0</td>\n      <td>H</td>\n      <td>240</td>\n      <td>8.3</td>\n      <td>230.0</td>\n      <td>12</td>\n      <td>0.2</td>\n      <td>68.0</td>\n      <td>42.0</td>\n      <td>1021.3</td>\n      <td>NaN</td>\n      <td>NaN</td>\n    </tr>\n    <tr>\n      <th>23</th>\n      <td>24</td>\n      <td>90</td>\n      <td>77</td>\n      <td>84.0</td>\n      <td>67.5</td>\n      <td>0.0</td>\n      <td>H</td>\n      <td>350</td>\n      <td>8.5</td>\n      <td>10.0</td>\n      <td>14</td>\n      <td>6.9</td>\n      <td>74.0</td>\n      <td>48.0</td>\n      <td>1018.2</td>\n      <td>NaN</td>\n      <td>NaN</td>\n    </tr>\n    <tr>\n      <th>24</th>\n      <td>25</td>\n      <td>90</td>\n      <td>72</td>\n      <td>81.0</td>\n      <td>61.3</td>\n      <td>0.0</td>\n      <td>190</td>\n      <td>4.9</td>\n      <td>230.0</td>\n      <td>9.0</td>\n      <td>5.6</td>\n      <td>81.0</td>\n      <td>29.0</td>\n      <td>1019.6</td>\n      <td>NaN</td>\n      <td>NaN</td>\n      <td>NaN</td>\n    </tr>\n    <tr>\n      <th>25</th>\n      <td>26</td>\n      <td>97*</td>\n      <td>64</td>\n      <td>81.0</td>\n      <td>70.4</td>\n      <td>0.0</td>\n      <td>H</td>\n      <td>050</td>\n      <td>5.1</td>\n      <td>200.0</td>\n      <td>12</td>\n      <td>4.0</td>\n      <td>107.0</td>\n      <td>45.0</td>\n      <td>1014.9</td>\n      <td>NaN</td>\n      <td>NaN</td>\n    </tr>\n    <tr>\n      <th>26</th>\n      <td>27</td>\n      <td>91</td>\n      <td>72</td>\n      <td>82.0</td>\n      <td>69.7</td>\n      <td>0.0</td>\n      <td>RTH</td>\n      <td>250</td>\n      <td>12.1</td>\n      <td>230.0</td>\n      <td>17</td>\n      <td>7.1</td>\n      <td>90.0</td>\n      <td>47.0</td>\n      <td>1009.0</td>\n      <td>NaN</td>\n      <td>NaN</td>\n    </tr>\n    <tr>\n      <th>27</th>\n      <td>28</td>\n      <td>84</td>\n      <td>68</td>\n      <td>76.0</td>\n      <td>65.6</td>\n      <td>0.0</td>\n      <td>RTFH</td>\n      <td>280</td>\n      <td>7.6</td>\n      <td>340.0</td>\n      <td>16</td>\n      <td>7.0</td>\n      <td>100.0</td>\n      <td>51.0</td>\n      <td>1011.0</td>\n      <td>NaN</td>\n      <td>NaN</td>\n    </tr>\n    <tr>\n      <th>28</th>\n      <td>29</td>\n      <td>88</td>\n      <td>66</td>\n      <td>77.0</td>\n      <td>59.7</td>\n      <td>0.0</td>\n      <td>040</td>\n      <td>5.4</td>\n      <td>20.0</td>\n      <td>9.0</td>\n      <td>5.3</td>\n      <td>84.0</td>\n      <td>33.0</td>\n      <td>1020.6</td>\n      <td>NaN</td>\n      <td>NaN</td>\n      <td>NaN</td>\n    </tr>\n    <tr>\n      <th>29</th>\n      <td>30</td>\n      <td>90</td>\n      <td>45</td>\n      <td>68.0</td>\n      <td>63.6</td>\n      <td>0.0</td>\n      <td>H</td>\n      <td>240</td>\n      <td>6.0</td>\n      <td>220.0</td>\n      <td>17</td>\n      <td>4.8</td>\n      <td>200.0</td>\n      <td>41.0</td>\n      <td>1022.7</td>\n      <td>NaN</td>\n      <td>NaN</td>\n    </tr>\n    <tr>\n      <th>30</th>\n      <td>mo</td>\n      <td>82.9</td>\n      <td>60.5</td>\n      <td>71.7</td>\n      <td>16.0</td>\n      <td>58.8</td>\n      <td>0.00</td>\n      <td>6.9</td>\n      <td>5.3</td>\n      <td>NaN</td>\n      <td>NaN</td>\n      <td>NaN</td>\n      <td>NaN</td>\n      <td>NaN</td>\n      <td>NaN</td>\n      <td>NaN</td>\n      <td>NaN</td>\n    </tr>\n  </tbody>\n</table>\n</div>"
     },
     "execution_count": 53,
     "metadata": {},
     "output_type": "execute_result"
    }
   ],
   "source": [
    "data"
   ],
   "metadata": {
    "collapsed": false
   }
  },
  {
   "cell_type": "code",
   "execution_count": 34,
   "outputs": [],
   "source": [
    "elements = data.split()\n",
    "headers = elements[:17]"
   ],
   "metadata": {
    "collapsed": false
   }
  },
  {
   "cell_type": "code",
   "execution_count": 36,
   "outputs": [
    {
     "data": {
      "text/plain": "17"
     },
     "execution_count": 36,
     "metadata": {},
     "output_type": "execute_result"
    }
   ],
   "source": [
    "len(headers)"
   ],
   "metadata": {
    "collapsed": false
   }
  },
  {
   "cell_type": "code",
   "execution_count": 43,
   "outputs": [
    {
     "data": {
      "text/plain": "[1, 18, 35, 52, 69, 86, 103, 120, 137, 154, 171, 188, 205, 222, 239]"
     },
     "execution_count": 43,
     "metadata": {},
     "output_type": "execute_result"
    }
   ],
   "source": [
    "[(17*i)+1 for i in range(15)]"
   ],
   "metadata": {
    "collapsed": false
   }
  },
  {
   "cell_type": "code",
   "execution_count": 48,
   "outputs": [],
   "source": [
    "mxt_indexes = [(16*i)+2 for i in range(15)]"
   ],
   "metadata": {
    "collapsed": false
   }
  },
  {
   "cell_type": "code",
   "execution_count": 49,
   "outputs": [
    {
     "data": {
      "text/plain": "[b'MnT',\n b'88',\n b'63',\n b'39.6',\n b'110',\n b'8.3',\n b'030',\n b'17',\n b'2.6',\n b'78',\n b'40',\n b'1012.6',\n b'13',\n b'61',\n b'64']"
     },
     "execution_count": 49,
     "metadata": {},
     "output_type": "execute_result"
    }
   ],
   "source": [
    "[elements[i] for i in mxt_indexes]"
   ],
   "metadata": {
    "collapsed": false
   }
  },
  {
   "cell_type": "code",
   "execution_count": 4,
   "outputs": [
    {
     "ename": "NameError",
     "evalue": "name 'lines' is not defined",
     "output_type": "error",
     "traceback": [
      "\u001B[0;31m---------------------------------------------------------------------------\u001B[0m",
      "\u001B[0;31mNameError\u001B[0m                                 Traceback (most recent call last)",
      "Cell \u001B[0;32mIn [4], line 1\u001B[0m\n\u001B[0;32m----> 1\u001B[0m \u001B[43mlines\u001B[49m\n",
      "\u001B[0;31mNameError\u001B[0m: name 'lines' is not defined"
     ]
    }
   ],
   "source": [
    "lines"
   ],
   "metadata": {
    "collapsed": false
   }
  },
  {
   "cell_type": "code",
   "execution_count": 62,
   "outputs": [],
   "source": [
    "spread = [int(a[:2]) - int(b[:2]) for (a, b) in zip(data['MxT'], data['MnT'])]"
   ],
   "metadata": {
    "collapsed": false
   }
  },
  {
   "cell_type": "code",
   "execution_count": 63,
   "outputs": [
    {
     "data": {
      "text/plain": "[29,\n 16,\n 22,\n 18,\n 24,\n 20,\n 16,\n 21,\n 54,\n 20,\n 32,\n 15,\n 11,\n 2,\n 9,\n 20,\n 24,\n 30,\n 20,\n 27,\n 27,\n 26,\n 22,\n 13,\n 18,\n 33,\n 19,\n 16,\n 22,\n 45,\n 22]"
     },
     "execution_count": 63,
     "metadata": {},
     "output_type": "execute_result"
    }
   ],
   "source": [
    "spread"
   ],
   "metadata": {
    "collapsed": false
   }
  },
  {
   "cell_type": "code",
   "execution_count": null,
   "outputs": [],
   "source": [],
   "metadata": {
    "collapsed": false
   }
  }
 ],
 "metadata": {
  "kernelspec": {
   "display_name": "Python 3 (ipykernel)",
   "language": "python",
   "name": "python3"
  },
  "language_info": {
   "codemirror_mode": {
    "name": "ipython",
    "version": 3
   },
   "file_extension": ".py",
   "mimetype": "text/x-python",
   "name": "python",
   "nbconvert_exporter": "python",
   "pygments_lexer": "ipython3",
   "version": "3.10.7"
  }
 },
 "nbformat": 4,
 "nbformat_minor": 5
}
